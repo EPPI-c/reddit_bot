{
 "cells": [
  {
   "cell_type": "code",
   "execution_count": 1,
   "metadata": {},
   "outputs": [],
   "source": [
    "import praw\n",
    "import json\n",
    "with open('credentials.credentials', 'r') as file:\n",
    "    cred = json.load(file)\n",
    "reddit = praw.Reddit(client_id=cred['client_id'], client_secret=cred['client_secret'], user_agent=cred['user_agent'])\n",
    "wam = reddit.subreddit('wholesomeanimemes')"
   ]
  },
  {
   "cell_type": "code",
   "execution_count": null,
   "metadata": {},
   "outputs": [],
   "source": [
    "for p in wam.top(limit=250):\n",
    "    if p.id == 'kpmoyo':\n",
    "        print('STOLEN')"
   ]
  },
  {
   "cell_type": "code",
   "execution_count": 8,
   "metadata": {},
   "outputs": [],
   "source": [
    "import sqlite3\n",
    "\n",
    "conn = sqlite3.connect(':memory:')\n",
    "cursor = conn.cursor()\n",
    "with open('kWAM bot/tables.sql', 'r') as f:\n",
    "    cursor.executescript(f.read())\n"
   ]
  },
  {
   "cell_type": "code",
   "execution_count": 62,
   "metadata": {},
   "outputs": [],
   "source": [
    "import requests\n",
    "import time\n",
    "\n",
    "class PushshiftConector:\n",
    "\n",
    "    def __init__(self, subreddit) -> None:\n",
    "        self.subreddit = subreddit\n",
    "        self.posts_link = f'https://api.pushshift.io//reddit/search/submission/?subreddit={subreddit}'\n",
    "        self.comments_link = f'https://api.pushshift.io//reddit/search/comment/?subreddit={subreddit}'\n",
    "        self.meta = requests.get('https://api.pushshift.io/meta').json()\n",
    "        self.rate_limit = 60/self.meta['server_ratelimit_per_minute']\n",
    "\n",
    "    def get_post_after(self, after=None, fields=None) -> list:\n",
    "        after = f'&after={after}' if after else ''\n",
    "        fields = f'&fields=created_utc,{fields}' if fields else ''\n",
    "        start = time.time()\n",
    "        r = requests.get(f'{self.posts_link}{after}{fields}&size=500').json()['data']\n",
    "        dur = time.time() - start\n",
    "        res = [*r]\n",
    "        while (len(r) > 0):\n",
    "            if dur < self.rate_limit: time.sleep(dur)\n",
    "            after = f'&after={res[-1][\"created_utc\"]}'\n",
    "            start = time.time()\n",
    "            r = requests.get(f'{self.posts_link}{after}{fields}&size=500').json()['data']\n",
    "            res.extend(r)\n",
    "            dur = time.time() - start\n",
    "        return res\n",
    "\n",
    "p = PushshiftConector('animemes')"
   ]
  },
  {
   "cell_type": "code",
   "execution_count": 50,
   "metadata": {},
   "outputs": [
    {
     "data": {
      "text/plain": [
       "0.5"
      ]
     },
     "execution_count": 50,
     "metadata": {},
     "output_type": "execute_result"
    }
   ],
   "source": [
    "p.rate_limit"
   ]
  },
  {
   "cell_type": "code",
   "execution_count": 63,
   "metadata": {},
   "outputs": [
    {
     "data": {
      "text/plain": [
       "[{'author': 'HerrEisen', 'created_utc': 1659112096, 'id': 'wb97q1'},\n",
       " {'author': 'xxxdun', 'created_utc': 1659112698, 'id': 'wb9gk0'},\n",
       " {'author': 'shadyyninja', 'created_utc': 1659112835, 'id': 'wb9il1'},\n",
       " {'author': 'Googleflax', 'created_utc': 1659113426, 'id': 'wb9r6b'},\n",
       " {'author': 'olaznog-lavanar', 'created_utc': 1659114067, 'id': 'wba0ta'},\n",
       " {'author': 'olaznog-lavanar', 'created_utc': 1659114106, 'id': 'wba1ef'},\n",
       " {'author': 'olaznog-lavanar', 'created_utc': 1659114191, 'id': 'wba2oa'},\n",
       " {'author': 'olaznog-lavanar', 'created_utc': 1659114253, 'id': 'wba3k0'},\n",
       " {'author': 'olaznog-lavanar', 'created_utc': 1659114331, 'id': 'wba4on'},\n",
       " {'author': 'olaznog-lavanar', 'created_utc': 1659114532, 'id': 'wba7lj'},\n",
       " {'author': 'VilhamDerErloser1941', 'created_utc': 1659114582, 'id': 'wba8cx'},\n",
       " {'author': 'olaznog-lavanar', 'created_utc': 1659114615, 'id': 'wba8u8'},\n",
       " {'author': 'Chrizistoast', 'created_utc': 1659115020, 'id': 'wbaetx'},\n",
       " {'author': 'smithdog223', 'created_utc': 1659117574, 'id': 'wbbftm'},\n",
       " {'author': 'Azaloq', 'created_utc': 1659117583, 'id': 'wbbfxr'},\n",
       " {'author': 'iytff__', 'created_utc': 1659118294, 'id': 'wbbqkg'},\n",
       " {'author': 'rtslaywood', 'created_utc': 1659118486, 'id': 'wbbtbm'},\n",
       " {'author': 'Possible-Sun137', 'created_utc': 1659118757, 'id': 'wbbx4w'},\n",
       " {'author': 'Much-Judgment-1198', 'created_utc': 1659119605, 'id': 'wbc972'},\n",
       " {'author': 'Altruistic-Bedroom83', 'created_utc': 1659120892, 'id': 'wbcqcm'},\n",
       " {'author': 'Swisscheese67', 'created_utc': 1659122508, 'id': 'wbdczx'},\n",
       " {'author': 'obliviouslymeef27', 'created_utc': 1659122569, 'id': 'wbddvj'},\n",
       " {'author': 'Satokibi', 'created_utc': 1659122924, 'id': 'wbdimq'},\n",
       " {'author': 'Asendor', 'created_utc': 1659124144, 'id': 'wbdz62'},\n",
       " {'author': 'Divinewolfgod4', 'created_utc': 1659124413, 'id': 'wbe2qk'},\n",
       " {'author': 'Divinewolfgod4', 'created_utc': 1659124486, 'id': 'wbe3nz'},\n",
       " {'author': 'Divinewolfgod4', 'created_utc': 1659124584, 'id': 'wbe4z0'},\n",
       " {'author': 'Divinewolfgod4', 'created_utc': 1659124859, 'id': 'wbe8v9'},\n",
       " {'author': 'NARUTOOOOOOO0', 'created_utc': 1659124885, 'id': 'wbe99j'},\n",
       " {'author': 'tomtomm9', 'created_utc': 1659125908, 'id': 'wbenhl'},\n",
       " {'author': 'ROBASAHMEDKHAN', 'created_utc': 1659126987, 'id': 'wbf238'},\n",
       " {'author': 'Raphael_DeVil', 'created_utc': 1659127967, 'id': 'wbffae'},\n",
       " {'author': 'Boddup', 'created_utc': 1659128616, 'id': 'wbfoh4'},\n",
       " {'author': 'Background-Classic32', 'created_utc': 1659131624, 'id': 'wbgsjp'},\n",
       " {'author': 'Background-Classic32', 'created_utc': 1659132206, 'id': 'wbh0az'},\n",
       " {'author': 'jjeg6804', 'created_utc': 1659132511, 'id': 'wbh4ce'},\n",
       " {'author': 'novaleez', 'created_utc': 1659133344, 'id': 'wbhfkb'},\n",
       " {'author': 'Aztery', 'created_utc': 1659134012, 'id': 'wbhocj'},\n",
       " {'author': 'SkepticDrinker', 'created_utc': 1659134953, 'id': 'wbi0rt'},\n",
       " {'author': 'SkepticDrinker', 'created_utc': 1659135335, 'id': 'wbi5sw'},\n",
       " {'author': 'Batsstank', 'created_utc': 1659136383, 'id': 'wbijeu'},\n",
       " {'author': 'Numerous-Gur-9008', 'created_utc': 1659136568, 'id': 'wbilqo'},\n",
       " {'author': 'Lofidrops', 'created_utc': 1659136777, 'id': 'wbio8j'},\n",
       " {'author': 'TheMoriohWeeb', 'created_utc': 1659139269, 'id': 'wbjjbl'},\n",
       " {'author': 'TheMoriohWeeb', 'created_utc': 1659139486, 'id': 'wbjlzp'},\n",
       " {'author': 'TheMoriohWeeb', 'created_utc': 1659139612, 'id': 'wbjnk0'},\n",
       " {'author': 'TheMoriohWeeb', 'created_utc': 1659139757, 'id': 'wbjpb9'},\n",
       " {'author': 'Pretend_Librarian285', 'created_utc': 1659139929, 'id': 'wbjri8'},\n",
       " {'author': 'TheMoriohWeeb', 'created_utc': 1659140761, 'id': 'wbk1m4'},\n",
       " {'author': 'Heralax_Tekran', 'created_utc': 1659141927, 'id': 'wbkftr'},\n",
       " {'author': 'Immediate-Office', 'created_utc': 1659144234, 'id': 'wbl7sv'},\n",
       " {'author': 'Ginger-TheBestGinger', 'created_utc': 1659144862, 'id': 'wblf6j'},\n",
       " {'author': 'BaronBlackFalcon', 'created_utc': 1659145523, 'id': 'wblmw8'},\n",
       " {'author': 'Leading_Amphibian_60', 'created_utc': 1659146961, 'id': 'wbm3v9'},\n",
       " {'author': 'ace_tsunami', 'created_utc': 1659147292, 'id': 'wbm7ua'},\n",
       " {'author': 'AdmiralRex_WasTaken', 'created_utc': 1659147557, 'id': 'wbmb0o'},\n",
       " {'author': 'ace_tsunami', 'created_utc': 1659147816, 'id': 'wbme4k'},\n",
       " {'author': 'Beanos_thebest', 'created_utc': 1659148075, 'id': 'wbmh2s'},\n",
       " {'author': 'TheMoriohWeeb', 'created_utc': 1659148106, 'id': 'wbmhf7'},\n",
       " {'author': 'ace_tsunami', 'created_utc': 1659148425, 'id': 'wbml7z'},\n",
       " {'author': 'Fulltime_Introvert', 'created_utc': 1659150041, 'id': 'wbn36c'},\n",
       " {'author': 'TheMoriohWeeb', 'created_utc': 1659151428, 'id': 'wbnigd'},\n",
       " {'author': 'KeyNature7884', 'created_utc': 1659153934, 'id': 'wbo9fz'},\n",
       " {'author': 'Fulltime_Introvert', 'created_utc': 1659154186, 'id': 'wboc4g'},\n",
       " {'author': 'HaremGodess69', 'created_utc': 1659154331, 'id': 'wbodqi'},\n",
       " {'author': 'Fulltime_Introvert', 'created_utc': 1659154342, 'id': 'wbodub'},\n",
       " {'author': 'OZomee', 'created_utc': 1659154440, 'id': 'wboewa'},\n",
       " {'author': 'TransmittedMemes', 'created_utc': 1659155085, 'id': 'wbom7j'},\n",
       " {'author': 'TransmittedMemes', 'created_utc': 1659155624, 'id': 'wbosb5'},\n",
       " {'author': 'Infamous_Outside_847', 'created_utc': 1659157995, 'id': 'wbpj8j'},\n",
       " {'author': 'NekoWafers', 'created_utc': 1659158427, 'id': 'wbpo55'},\n",
       " {'author': 'CatWithClause', 'created_utc': 1659158778, 'id': 'wbprwj'},\n",
       " {'author': 'Mission_Performer281', 'created_utc': 1659160196, 'id': 'wbq6jv'},\n",
       " {'author': 'kuroshkuro', 'created_utc': 1659160858, 'id': 'wbqdmx'},\n",
       " {'author': 'Niishiki', 'created_utc': 1659161949, 'id': 'wbqosc'},\n",
       " {'author': 'Accomplished-Card-14', 'created_utc': 1659161979, 'id': 'wbqp3r'},\n",
       " {'author': 'Pretend_Librarian285', 'created_utc': 1659162681, 'id': 'wbqw6k'},\n",
       " {'author': 'battlefury111', 'created_utc': 1659164632, 'id': 'wbre5d'},\n",
       " {'author': 'Latchymusprime217', 'created_utc': 1659165083, 'id': 'wbribd'},\n",
       " {'author': 'Numerous-Gur-9008', 'created_utc': 1659167551, 'id': 'wbs49r'},\n",
       " {'author': 'antonno69', 'created_utc': 1659167919, 'id': 'wbs7h2'},\n",
       " {'author': 'Numerous-Gur-9008', 'created_utc': 1659168207, 'id': 'wbsa3z'},\n",
       " {'author': 'Old-Author-9214', 'created_utc': 1659172727, 'id': 'wbtdxc'},\n",
       " {'author': 'Adolf_Hatake', 'created_utc': 1659172883, 'id': 'wbtfbz'},\n",
       " {'author': 'FaithlessnessSad3648', 'created_utc': 1659173243, 'id': 'wbtijr'},\n",
       " {'author': 'Altruistic-Bedroom83', 'created_utc': 1659173400, 'id': 'wbtjsi'},\n",
       " {'author': 'sam_N1123', 'created_utc': 1659174235, 'id': 'wbtr0s'},\n",
       " {'author': 'jjeg6804', 'created_utc': 1659174595, 'id': 'wbtu0v'},\n",
       " {'author': 'KindheartednessNo651', 'created_utc': 1659175167, 'id': 'wbtz0f'},\n",
       " {'author': 'Dusskulll', 'created_utc': 1659176741, 'id': 'wbudsi'},\n",
       " {'author': 'Numerous-Gur-9008', 'created_utc': 1659177204, 'id': 'wbui3b'},\n",
       " {'author': 'Numerous-Gur-9008', 'created_utc': 1659177334, 'id': 'wbuj9s'},\n",
       " {'author': 'Monkey_D_Thanos', 'created_utc': 1659177869, 'id': 'wbuo36'},\n",
       " {'author': 'SharkTRS', 'created_utc': 1659178404, 'id': 'wbusz5'},\n",
       " {'author': 'Animeweebskun', 'created_utc': 1659178749, 'id': 'wbuw4z'},\n",
       " {'author': 'G0dleft', 'created_utc': 1659178854, 'id': 'wbuxgw'},\n",
       " {'author': 'KannaKamuitheDragon', 'created_utc': 1659178883, 'id': 'wbuxsi'},\n",
       " {'author': 'New_You_3502', 'created_utc': 1659179248, 'id': 'wbv186'},\n",
       " {'author': 'MapoTofuMan', 'created_utc': 1659180621, 'id': 'wbvei5'},\n",
       " {'author': 'MapoTofuMan', 'created_utc': 1659180855, 'id': 'wbvgs6'},\n",
       " {'author': 'Rehan751', 'created_utc': 1659181681, 'id': 'wbvp1z'},\n",
       " {'author': 'Background-Classic32', 'created_utc': 1659181810, 'id': 'wbvqdf'},\n",
       " {'author': 'Boddup', 'created_utc': 1659183522, 'id': 'wbw8q3'},\n",
       " {'author': 'Zealousideal_Main388', 'created_utc': 1659183570, 'id': 'wbw98s'},\n",
       " {'author': 'ROBASAHMEDKHAN', 'created_utc': 1659183649, 'id': 'wbwa3f'},\n",
       " {'author': '1valid_username', 'created_utc': 1659183811, 'id': 'wbwbsj'},\n",
       " {'author': 'AintShocked_', 'created_utc': 1659183937, 'id': 'wbwd5b'},\n",
       " {'author': 'Swisscheese67', 'created_utc': 1659184003, 'id': 'wbwdvk'},\n",
       " {'author': 'Prisoner_240', 'created_utc': 1659184255, 'id': 'wbwgns'},\n",
       " {'author': 'Swisscheese67', 'created_utc': 1659184601, 'id': 'wbwkhx'},\n",
       " {'author': 'Swisscheese67', 'created_utc': 1659184791, 'id': 'wbwmjw'},\n",
       " {'author': 'ToraThePillowCuddler', 'created_utc': 1659185200, 'id': 'wbwr3q'},\n",
       " {'author': 'CreepyKidInDaCorna', 'created_utc': 1659185768, 'id': 'wbwxcc'},\n",
       " {'author': 'peach_heven', 'created_utc': 1659185906, 'id': 'wbwyw6'},\n",
       " {'author': 'memefromitalian', 'created_utc': 1659186200, 'id': 'wbx2no'},\n",
       " {'author': 'Rasanu', 'created_utc': 1659187191, 'id': 'wbxe9x'},\n",
       " {'author': 'helikopter_deeznuts', 'created_utc': 1659187226, 'id': 'wbxeok'},\n",
       " {'author': 'Lolihunter326', 'created_utc': 1659187587, 'id': 'wbxiua'},\n",
       " {'author': 'JannieSlayer69420', 'created_utc': 1659188372, 'id': 'wbxs1d'},\n",
       " {'author': 'Interesting-Cod8348', 'created_utc': 1659188768, 'id': 'wbxwrq'},\n",
       " {'author': 'ihavebirb', 'created_utc': 1659189441, 'id': 'wby4n0'},\n",
       " {'author': 'AConnecticutMan', 'created_utc': 1659190577, 'id': 'wbyiu4'},\n",
       " {'author': 'WorthAcademic3100', 'created_utc': 1659190626, 'id': 'wbyjft'},\n",
       " {'author': 'CREEPER_PANTS', 'created_utc': 1659190816, 'id': 'wbylsv'},\n",
       " {'author': 'CREEPER_PANTS', 'created_utc': 1659190845, 'id': 'wbym5o'},\n",
       " {'author': 'CREEPER_PANTS', 'created_utc': 1659190881, 'id': 'wbymmg'},\n",
       " {'author': 'HelixOT', 'created_utc': 1659191239, 'id': 'wbyr5i'},\n",
       " {'author': 'TheLegendOfCodavatar', 'created_utc': 1659191365, 'id': 'wbysms'},\n",
       " {'author': 'CREEPER_PANTS', 'created_utc': 1659191430, 'id': 'wbythe'},\n",
       " {'author': 'TheLegendOfCodavatar', 'created_utc': 1659191694, 'id': 'wbywvq'},\n",
       " {'author': 'Azaloq', 'created_utc': 1659191728, 'id': 'wbyxax'},\n",
       " {'author': 'DatGuyDevinYT', 'created_utc': 1659191987, 'id': 'wbz0h0'},\n",
       " {'author': 'ace_tsunami', 'created_utc': 1659192061, 'id': 'wbz1eo'},\n",
       " {'author': '_Nagisa_', 'created_utc': 1659192893, 'id': 'wbzbg8'},\n",
       " {'author': 'self_inflictedhobo', 'created_utc': 1659193143, 'id': 'wbzeh6'},\n",
       " {'author': 'jjeg6804', 'created_utc': 1659193422, 'id': 'wbzigx'},\n",
       " {'author': 'DoomSlayer4307', 'created_utc': 1659194432, 'id': 'wbzvg7'},\n",
       " {'author': 'fish1202', 'created_utc': 1659194533, 'id': 'wbzwph'},\n",
       " {'author': 'Jarstadian', 'created_utc': 1659194981, 'id': 'wc02b5'},\n",
       " {'author': 'I_AM_KIRA7111', 'created_utc': 1659195708, 'id': 'wc0bmr'},\n",
       " {'author': 'I_AM_KIRA7111', 'created_utc': 1659195830, 'id': 'wc0d3k'},\n",
       " {'author': 'ContradictionKing', 'created_utc': 1659195947, 'id': 'wc0enj'},\n",
       " {'author': 'Satokibi', 'created_utc': 1659196725, 'id': 'wc0opp'},\n",
       " {'author': 'CREEPER_PANTS', 'created_utc': 1659196846, 'id': 'wc0ql6'},\n",
       " {'author': 'DaddyChiiill', 'created_utc': 1659197299, 'id': 'wc0ww3'},\n",
       " {'author': 'Fulltime_Introvert', 'created_utc': 1659198015, 'id': 'wc16cn'},\n",
       " {'author': 'NoodleAstronaut', 'created_utc': 1659198123, 'id': 'wc17ty'},\n",
       " {'author': 'gappyjo', 'created_utc': 1659199478, 'id': 'wc1qbg'},\n",
       " {'author': 'Holofan4life', 'created_utc': 1659200378, 'id': 'wc22ke'},\n",
       " {'author': 'Holofan4life', 'created_utc': 1659200404, 'id': 'wc22vp'},\n",
       " {'author': 'Holofan4life', 'created_utc': 1659200428, 'id': 'wc23eb'},\n",
       " {'author': 'Holofan4life', 'created_utc': 1659200451, 'id': 'wc23rq'},\n",
       " {'author': 'Holofan4life', 'created_utc': 1659200475, 'id': 'wc245f'},\n",
       " {'author': 'Paralumanxiv', 'created_utc': 1659200882, 'id': 'wc29tn'},\n",
       " {'author': 'Ice_tea_666', 'created_utc': 1659201692, 'id': 'wc2koy'},\n",
       " {'author': 'Fulltime_Introvert', 'created_utc': 1659202227, 'id': 'wc2rkh'},\n",
       " {'author': 'Blue_Banana_Blastoff', 'created_utc': 1659203285, 'id': 'wc356b'},\n",
       " {'author': 'ahtnamasenaj', 'created_utc': 1659203693, 'id': 'wc3aej'},\n",
       " {'author': 'MrYoshirin', 'created_utc': 1659204516, 'id': 'wc3l8r'},\n",
       " {'author': 'Boddup', 'created_utc': 1659205628, 'id': 'wc3zov'},\n",
       " {'author': 'Numerous-Gur-9008', 'created_utc': 1659206430, 'id': 'wc4a44'},\n",
       " {'author': 'MaskedWiseman', 'created_utc': 1659206651, 'id': 'wc4cz6'},\n",
       " {'author': 'Numerous-Gur-9008', 'created_utc': 1659206663, 'id': 'wc4d5e'},\n",
       " {'author': 'Bishwa254', 'created_utc': 1659206808, 'id': 'wc4f1p'},\n",
       " {'author': 'Dynesaurus', 'created_utc': 1659206940, 'id': 'wc4gsc'},\n",
       " {'author': 'VilhamDerErloser1941', 'created_utc': 1659206976, 'id': 'wc4h9p'},\n",
       " {'author': 'ROBASAHMEDKHAN', 'created_utc': 1659207278, 'id': 'wc4l5h'},\n",
       " {'author': 'Holofan4life', 'created_utc': 1659207378, 'id': 'wc4mgj'},\n",
       " {'author': 'Holofan4life', 'created_utc': 1659207402, 'id': 'wc4mqn'},\n",
       " {'author': 'Holofan4life', 'created_utc': 1659207446, 'id': 'wc4na2'},\n",
       " {'author': 'Holofan4life', 'created_utc': 1659207470, 'id': 'wc4nl7'},\n",
       " {'author': 'Holofan4life', 'created_utc': 1659207503, 'id': 'wc4o1a'},\n",
       " {'author': 'doubleh124', 'created_utc': 1659208646, 'id': 'wc5379'},\n",
       " {'author': 'rishibhardwaj10', 'created_utc': 1659209503, 'id': 'wc5ecu'},\n",
       " {'author': 'Fulltime_Introvert', 'created_utc': 1659209778, 'id': 'wc5hvy'},\n",
       " {'author': 'Satokibi', 'created_utc': 1659209828, 'id': 'wc5ij8'},\n",
       " {'author': 'rishibhardwaj10', 'created_utc': 1659210051, 'id': 'wc5lhz'},\n",
       " {'author': 'PotatoProducer', 'created_utc': 1659210097, 'id': 'wc5m34'},\n",
       " {'author': 'Satokibi', 'created_utc': 1659210167, 'id': 'wc5mzo'},\n",
       " {'author': 'PotatoProducer', 'created_utc': 1659210456, 'id': 'wc5qqc'},\n",
       " {'author': 'AnonyKiller', 'created_utc': 1659210755, 'id': 'wc5uh8'},\n",
       " {'author': 'Shlim-Slady', 'created_utc': 1659211367, 'id': 'wc62he'},\n",
       " {'author': 'Arararag1', 'created_utc': 1659211505, 'id': 'wc649v'},\n",
       " {'author': 'Arararag1', 'created_utc': 1659211607, 'id': 'wc65mr'},\n",
       " {'author': 'self_inflictedhobo', 'created_utc': 1659213127, 'id': 'wc6oti'},\n",
       " {'author': 'self_inflictedhobo', 'created_utc': 1659213430, 'id': 'wc6spr'},\n",
       " {'author': '666thSuprisedPikachu', 'created_utc': 1659213723, 'id': 'wc6wl6'},\n",
       " {'author': 'Theeggishere', 'created_utc': 1659215989, 'id': 'wc7pgb'},\n",
       " {'author': 'PlasticPlankton2761', 'created_utc': 1659216021, 'id': 'wc7pvu'},\n",
       " {'author': 'Fulltime_Introvert', 'created_utc': 1659216095, 'id': 'wc7qv4'},\n",
       " {'author': 'Silent_head_965', 'created_utc': 1659216208, 'id': 'wc7sa9'},\n",
       " {'author': 'thelastsamurai97', 'created_utc': 1659216782, 'id': 'wc7zp4'},\n",
       " {'author': 'YeetMcSmooth', 'created_utc': 1659216907, 'id': 'wc818p'}]"
      ]
     },
     "execution_count": 63,
     "metadata": {},
     "output_type": "execute_result"
    }
   ],
   "source": [
    "r = p.get_post_after(after=1659110201,fields='id,author,link')\n",
    "r"
   ]
  },
  {
   "cell_type": "code",
   "execution_count": 59,
   "metadata": {},
   "outputs": [
    {
     "data": {
      "text/plain": [
       "False"
      ]
     },
     "execution_count": 59,
     "metadata": {},
     "output_type": "execute_result"
    }
   ],
   "source": [
    "1659112096 > 1659216907"
   ]
  },
  {
   "cell_type": "code",
   "execution_count": 58,
   "metadata": {},
   "outputs": [
    {
     "data": {
      "text/plain": [
       "{'author': 'YeetMcSmooth', 'created_utc': 1659216907, 'id': 'wc818p'}"
      ]
     },
     "execution_count": 58,
     "metadata": {},
     "output_type": "execute_result"
    }
   ],
   "source": [
    "r[-1]"
   ]
  },
  {
   "cell_type": "code",
   "execution_count": 36,
   "metadata": {},
   "outputs": [],
   "source": [
    "import time"
   ]
  },
  {
   "cell_type": "code",
   "execution_count": 39,
   "metadata": {},
   "outputs": [],
   "source": [
    "r = requests.get(f'https://api.pushshift.io//reddit/search/submission/?subreddit=animemes&limit=500')"
   ]
  },
  {
   "cell_type": "code",
   "execution_count": 41,
   "metadata": {},
   "outputs": [
    {
     "data": {
      "text/plain": [
       "{'Date': 'Sat, 30 Jul 2022 16:10:33 GMT', 'Content-Type': 'application/json; charset=UTF-8', 'Transfer-Encoding': 'chunked', 'Connection': 'keep-alive', 'Cache-Control': 'public, max-age=1, s-maxage=1', 'access-control-allow-origin': '*', 'CF-Cache-Status': 'MISS', 'Last-Modified': 'Sat, 30 Jul 2022 16:10:33 GMT', 'Expect-CT': 'max-age=604800, report-uri=\"https://report-uri.cloudflare.com/cdn-cgi/beacon/expect-ct\"', 'Report-To': '{\"endpoints\":[{\"url\":\"https:\\\\/\\\\/a.nel.cloudflare.com\\\\/report\\\\/v3?s=aKuovF5Kq4eIf1XxYg9JZ76A1xVgK3rUDhHqDAn5hFGCq9cL7oK5F6Hyio4e8aiMReFydEPAzuWJwGcsPNWQL8RUyECYlrADIKaOVqm%2FRBudcvskRWhMXC7aZ4oBGa25xncE\"}],\"group\":\"cf-nel\",\"max_age\":604800}', 'NEL': '{\"success_fraction\":0,\"report_to\":\"cf-nel\",\"max_age\":604800}', 'Vary': 'Accept-Encoding', 'Server': 'cloudflare', 'CF-RAY': '732f5d72cdfc221e-MIA', 'Content-Encoding': 'gzip', 'alt-svc': 'h3=\":443\"; ma=86400, h3-29=\":443\"; ma=86400'}"
      ]
     },
     "execution_count": 41,
     "metadata": {},
     "output_type": "execute_result"
    }
   ],
   "source": [
    "r.headers"
   ]
  }
 ],
 "metadata": {
  "interpreter": {
   "hash": "e7370f93d1d0cde622a1f8e1c04877d8463912d04d973331ad4851f04de6915a"
  },
  "kernelspec": {
   "display_name": "Python 3.10.4 64-bit",
   "language": "python",
   "name": "python3"
  },
  "language_info": {
   "codemirror_mode": {
    "name": "ipython",
    "version": 3
   },
   "file_extension": ".py",
   "mimetype": "text/x-python",
   "name": "python",
   "nbconvert_exporter": "python",
   "pygments_lexer": "ipython3",
   "version": "3.10.5"
  },
  "orig_nbformat": 4
 },
 "nbformat": 4,
 "nbformat_minor": 2
}
